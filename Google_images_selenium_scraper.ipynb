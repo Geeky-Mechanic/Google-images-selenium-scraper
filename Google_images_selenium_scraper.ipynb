{
  "cells": [
    {
      "cell_type": "markdown",
      "metadata": {
        "id": "view-in-github",
        "colab_type": "text"
      },
      "source": [
        "<a href=\"https://colab.research.google.com/github/Geeky-Mechanic/Google-images-selenium-scraper/blob/master/Google_images_selenium_scraper.ipynb\" target=\"_parent\"><img src=\"https://colab.research.google.com/assets/colab-badge.svg\" alt=\"Open In Colab\"/></a>"
      ]
    },
    {
      "cell_type": "code",
      "execution_count": null,
      "metadata": {
        "colab": {
          "base_uri": "https://localhost:8080/"
        },
        "id": "U904eolWx1Wh",
        "outputId": "1f371365-c94d-4a8b-b6ca-6c1598cd9e19"
      },
      "outputs": [],
      "source": [
        "from google.colab import drive\n",
        "drive.mount('/content/gdrive')"
      ]
    },
    {
      "cell_type": "code",
      "execution_count": null,
      "metadata": {
        "colab": {
          "base_uri": "https://localhost:8080/"
        },
        "id": "nzZVnhIq7OAb",
        "outputId": "d0974387-8570-4cef-c888-3045c6a5c18c"
      },
      "outputs": [],
      "source": [
        "import time\n",
        "import os\n",
        "#@markdown # Install requirements\n",
        "%cd /content\n",
        "if not os.path.exists('/content/Google-images-selenium-scraper'):\n",
        "  !git clone https://github.com/Geeky-Mechanic/Google-images-selenium-scraper\n",
        "  time.sleep(1)\n",
        "  %cd Google-images-selenium-scraper\n",
        "else:\n",
        "  %cd Google-images-selenium-scraper\n",
        "  !git pull  \n",
        "  time.sleep(1)\n",
        "!apt-get update \n",
        "!apt install chromium-chromedriver\n",
        "!cp /usr/lib/chromium-browser/chromedriver /usr/bin\n",
        "time.sleep(1)\n",
        "!pip install selenium Pillow"
      ]
    },
    {
      "cell_type": "code",
      "execution_count": null,
      "metadata": {
        "colab": {
          "base_uri": "https://localhost:8080/"
        },
        "id": "wWf5O3O7_mwq",
        "outputId": "105da987-c19a-4427-c4ea-fb22c3fca965"
      },
      "outputs": [],
      "source": [
        "#@markdown # Run the script\n",
        "\n",
        "import time\n",
        "\n",
        "query = \"cats\" #@param{type:\"string\"}\n",
        "number_of_images = 5 #@param{type:\"number\"}\n",
        "\n",
        "location = \"/content/gdrive/MyDrive/scraper-images\"\n",
        "\n",
        "with open('main.py', 'r', encoding='utf-8') as file:\n",
        "\tdata = file.readlines()\n",
        "\n",
        "for i, line in enumerate(data):\n",
        "  if 'query = input(\"Write' in line:\n",
        "    data[i] = f'query = \"{query}\"\\n'\n",
        "  if 'num_query = input(\"H' in line:\n",
        "    data[i] = f'num_query = {number_of_images}\\n'\n",
        "  if 'directory = input(\"In' in line:\n",
        "    data[i] = f'directory = \"{location}\"\\n'\n",
        "\n",
        "with open('main.py', 'w', encoding='utf-8') as file:\n",
        "\tfile.writelines(data)\n",
        "\n",
        "time.sleep(0.5)\n",
        "\n",
        "!python3 main.py"
      ]
    }
  ],
  "metadata": {
    "colab": {
      "provenance": [],
      "authorship_tag": "ABX9TyMlZRa76sh2W0wCE46AGiPw",
      "include_colab_link": true
    },
    "kernelspec": {
      "display_name": "Python 3",
      "name": "python3"
    },
    "language_info": {
      "name": "python"
    }
  },
  "nbformat": 4,
  "nbformat_minor": 0
}
