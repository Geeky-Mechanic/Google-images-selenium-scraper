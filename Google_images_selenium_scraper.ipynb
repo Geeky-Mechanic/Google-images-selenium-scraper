{
 "cells": [
  {
   "cell_type": "markdown",
   "metadata": {
    "colab_type": "text",
    "id": "view-in-github"
   },
   "source": [
    "<a href=\"https://colab.research.google.com/github/Geeky-Mechanic/Google-images-selenium-scraper/blob/master/Google_images_selenium_scraper.ipynb\" target=\"_parent\"><img src=\"https://colab.research.google.com/assets/colab-badge.svg\" alt=\"Open In Colab\"/></a>"
   ]
  },
  {
   "cell_type": "code",
   "execution_count": null,
   "metadata": {
    "id": "U904eolWx1Wh"
   },
   "outputs": [],
   "source": [
    "#@markdown # Connect to Google Drive\n",
    "from google.colab import drive\n",
    "drive.mount('/content/gdrive')"
   ]
  },
  {
   "cell_type": "code",
   "execution_count": null,
   "metadata": {
    "id": "nzZVnhIq7OAb"
   },
   "outputs": [],
   "source": [
    "import time\n",
    "import os\n",
    "#@markdown # Install requirements\n",
    "%cd /content\n",
    "if not os.path.exists('/content/Google-images-selenium-scraper'):\n",
    "  !git clone https://github.com/Geeky-Mechanic/Google-images-selenium-scraper\n",
    "  time.sleep(1)\n",
    "  %cd Google-images-selenium-scraper\n",
    "else:\n",
    "  %cd Google-images-selenium-scraper\n",
    "  !git pull  \n",
    "  time.sleep(1)\n",
    "!apt-get update \n",
    "!apt install chromium-chromedriver\n",
    "!cp /usr/lib/chromium-browser/chromedriver /usr/bin\n",
    "time.sleep(1)\n",
    "!pip install selenium Pillow"
   ]
  },
  {
   "cell_type": "code",
   "execution_count": null,
   "metadata": {
    "id": "wWf5O3O7_mwq"
   },
   "outputs": [],
   "source": [
    "#@markdown # Run the script\n",
    "\n",
    "import time\n",
    "\n",
    "query = \"cats\" #@param{type:\"string\"}\n",
    "number_of_images = 5 #@param{type:\"number\"}\n",
    "\n",
    "location = \"/content/gdrive/MyDrive/scraper-images\"\n",
    "\n",
    "with open('main.py', 'r', encoding='utf-8') as file:\n",
    "\tdata = file.readlines()\n",
    "\n",
    "for i, line in enumerate(data):\n",
    "  if 'web_text_query' in line:\n",
    "    data[i] = f'web_text_query = \"{query}\"\\n'\n",
    "  if 'number_of_images_in_query' in line:\n",
    "    data[i] = f'number_of_images_in_query = {number_of_images}\\n'\n",
    "  if 'directory_to_save' in line:\n",
    "    data[i] = f'directory_to_save = \"{location}\"\\n'\n",
    "\n",
    "with open('main.py', 'w', encoding='utf-8') as file:\n",
    "\tfile.writelines(data)\n",
    "\n",
    "time.sleep(0.5)\n",
    "\n",
    "!python3 main.py"
   ]
  }
 ],
 "metadata": {
  "colab": {
   "authorship_tag": "ABX9TyMlZRa76sh2W0wCE46AGiPw",
   "include_colab_link": true,
   "provenance": []
  },
  "kernelspec": {
   "display_name": "Python 3 (ipykernel)",
   "language": "python",
   "name": "python3"
  },
  "language_info": {
   "codemirror_mode": {
    "name": "ipython",
    "version": 3
   },
   "file_extension": ".py",
   "mimetype": "text/x-python",
   "name": "python",
   "nbconvert_exporter": "python",
   "pygments_lexer": "ipython3",
   "version": "3.10.6"
  }
 },
 "nbformat": 4,
 "nbformat_minor": 1
}
