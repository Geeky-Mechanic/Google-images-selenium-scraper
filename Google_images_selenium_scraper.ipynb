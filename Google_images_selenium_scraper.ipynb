{
 "cells": [
  {
   "cell_type": "markdown",
   "metadata": {
    "colab_type": "text",
    "id": "view-in-github"
   },
   "source": [
    "<a href=\"https://colab.research.google.com/github/Geeky-Mechanic/Google-images-selenium-scraper/blob/master/Google_images_selenium_scraper.ipynb\" target=\"_parent\"><img src=\"https://colab.research.google.com/assets/colab-badge.svg\" alt=\"Open In Colab\"/></a>"
   ]
  },
  {
   "cell_type": "code",
   "execution_count": null,
   "metadata": {
    "id": "U904eolWx1Wh"
   },
   "outputs": [],
   "source": [
    "#@markdown # Connect to Google Drive\n",
    "from google.colab import drive\n",
    "drive.mount('/content/gdrive')"
   ]
  },
  {
   "cell_type": "code",
   "execution_count": null,
   "metadata": {
    "id": "nzZVnhIq7OAb"
   },
   "outputs": [],
   "source": [
    "import time\n",
    "import os\n",
    "#@markdown # Install requirements\n",
    "%cd /content\n",
    "if not os.path.exists('/content/Google-images-selenium-scraper'):\n",
    "  !git clone https://github.com/Geeky-Mechanic/Google-images-selenium-scraper\n",
    "  time.sleep(1)\n",
    "  %cd Google-images-selenium-scraper\n",
    "else:\n",
    "  %cd Google-images-selenium-scraper\n",
    "  !git pull  \n",
    "  time.sleep(1)\n",
    "!apt-get update \n",
    "!apt install chromium-chromedriver\n",
    "!cp /usr/lib/chromium-browser/chromedriver /usr/bin\n",
    "time.sleep(1)\n",
    "!pip install selenium Pillow"
   ]
  },
  {
   "cell_type": "code",
   "execution_count": null,
   "metadata": {
    "id": "wWf5O3O7_mwq"
   },
   "outputs": [],
   "source": [
    "#@markdown # Run the script\n",
    "\n",
    "import time\n",
    "\n",
    "query = \"cats\" #@param{type:\"string\"}\n",
    "number_of_images = 5 #@param{type:\"number\"}\n",
    "\n",
    "location = \"/content/gdrive/MyDrive/scraper-images\"\n",
    "\n",
    "# Modify the main.py to ensure compatibility with the notebook\n",
    "\n",
    "with open('main.py', 'r', encoding='utf-8') as file:\n",
    "\tdata = file.readlines()\n",
    "\n",
    "for i, line in enumerate(data):\n",
    "  if 'web_text_query =' in line:\n",
    "    data[i] = f'web_text_query = \"{query}\"\\n'\n",
    "  elif 'number_of_images_in_query =' in line:\n",
    "    data[i] = f'number_of_images_in_query = {number_of_images}\\n'\n",
    "  elif 'directory_to_save =' in line:\n",
    "    data[i] = f'directory_to_save = \"{location}\"\\n'\n",
    "  elif 'scan_for_duplicates = input(\"W' in line:\n",
    "    data[i] = 'scan_for_duplicates = \"NO\"'\n",
    "\n",
    "with open('main.py', 'w', encoding='utf-8') as file:\n",
    "\tfile.writelines(data)\n",
    "\n",
    "time.sleep(0.5)\n",
    "\n",
    "!python3 main.py"
   ]
  },
  {
   "cell_type": "code",
   "execution_count": null,
   "metadata": {},
   "outputs": [],
   "source": [
    "#@markdown #Find duplicates\n",
    "#@markdown ###Uses https://github.com/lene/DuplicateImages , refer to it for additionnal config and information on parameters\n",
    "\n",
    "!pip install duplicate_images\n",
    "\n",
    "#@markdown The program does navigate through folders, so put the top level folder if you have multiple queries\n",
    "\n",
    "location = \"/content/gdrive/MyDrive/scraper-images\"#@param{type:\"string\"}\n",
    "\n",
    "#@markdown Check to delete duplicate images\n",
    "\n",
    "delete_duplicates = False #@param{type:\"boolean\"}\n",
    "\n",
    "on_equal = \"quote\"\n",
    "\n",
    "detailed_output = False #@param{type:\"boolean\"}\n",
    "\n",
    "output_config = \"\"\n",
    "\n",
    "if detailed_output:\n",
    "  output_config = \"--debug\"\n",
    "\n",
    "#@markdown Enter a whole positive number which is essentially a ressemblance factor for the\n",
    "#@markdown images. 0 is for identical or near-identical images (I haven't personnally tested it thouroughly).\n",
    "#@markdown I suggest that you run once with the detailed output to see the order of magnitude of the numbers for your images.\n",
    "\n",
    "max_distance = 0 #@param{type:\"number\"}\n",
    "\n",
    "if delete_duplicates:\n",
    "  on_equal = \"delete-second\"\n",
    "\n",
    "!find-dups --progress --parallel {output_config} --max-distance {max_distance} --on-equal {on_equal} root_directory {location}\n",
    "\n"
   ]
  }
 ],
 "metadata": {
  "colab": {
   "authorship_tag": "ABX9TyMlZRa76sh2W0wCE46AGiPw",
   "include_colab_link": true,
   "provenance": []
  },
  "kernelspec": {
   "display_name": "Python 3 (ipykernel)",
   "language": "python",
   "name": "python3"
  },
  "language_info": {
   "codemirror_mode": {
    "name": "ipython",
    "version": 3
   },
   "file_extension": ".py",
   "mimetype": "text/x-python",
   "name": "python",
   "nbconvert_exporter": "python",
   "pygments_lexer": "ipython3",
   "version": "3.10.6"
  }
 },
 "nbformat": 4,
 "nbformat_minor": 1
}
